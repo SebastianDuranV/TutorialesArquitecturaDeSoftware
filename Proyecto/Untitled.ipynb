{
 "cells": [
  {
   "cell_type": "code",
   "execution_count": 21,
   "metadata": {},
   "outputs": [],
   "source": [
    "import mysql.connector\n",
    "mydb = mysql.connector.connect(\n",
    "        host=\"localhost\",\n",
    "        user=\"root\",\n",
    "        password=\"password\",\n",
    "        database=\"slackdatabase\"\n",
    "        )"
   ]
  },
  {
   "cell_type": "code",
   "execution_count": 22,
   "metadata": {},
   "outputs": [],
   "source": [
    "cur = mydb.cursor()\n",
    "cur.execute(\"select * from usuario\")\n",
    "ips = cur.fetchall()"
   ]
  },
  {
   "cell_type": "code",
   "execution_count": 23,
   "metadata": {},
   "outputs": [
    {
     "name": "stdout",
     "output_type": "stream",
     "text": [
      "['1', 'usuarioTest', '']\n",
      "['2', 'usuarioTest', '']\n",
      "['3', 'usuarioTest', '']\n"
     ]
    }
   ],
   "source": [
    "for i in ips:\n",
    "    p = \"\"\n",
    "    for j in i:\n",
    "        p += str(j) + \",\"\n",
    "    print(p.split(','))"
   ]
  },
  {
   "cell_type": "code",
   "execution_count": 26,
   "metadata": {},
   "outputs": [],
   "source": [
    "cur.execute(\"select nombreusuario from usuario\")\n",
    "ips = cur.fetchall()"
   ]
  },
  {
   "cell_type": "code",
   "execution_count": 29,
   "metadata": {},
   "outputs": [
    {
     "data": {
      "text/plain": [
       "True"
      ]
     },
     "execution_count": 29,
     "metadata": {},
     "output_type": "execute_result"
    }
   ],
   "source": [
    "('usuarioTest',) in ips"
   ]
  },
  {
   "cell_type": "code",
   "execution_count": 37,
   "metadata": {},
   "outputs": [
    {
     "name": "stdout",
     "output_type": "stream",
     "text": [
      "[('usuarioTest',), ('usuarioTest',), ('usuarioTest',)]\n"
     ]
    }
   ],
   "source": [
    "user = 'usuarioTest'\n",
    "cur.execute(\"select nombreusuario from usuario where nombreusuario = '\" + user +\"'\")\n",
    "ips = cur.fetchall()\n",
    "print(ips)"
   ]
  }
 ],
 "metadata": {
  "kernelspec": {
   "display_name": "Python 3",
   "language": "python",
   "name": "python3"
  },
  "language_info": {
   "codemirror_mode": {
    "name": "ipython",
    "version": 3
   },
   "file_extension": ".py",
   "mimetype": "text/x-python",
   "name": "python",
   "nbconvert_exporter": "python",
   "pygments_lexer": "ipython3",
   "version": "3.8.3"
  }
 },
 "nbformat": 4,
 "nbformat_minor": 4
}
